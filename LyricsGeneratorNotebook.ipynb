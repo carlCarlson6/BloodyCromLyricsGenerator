{
 "cells": [
  {
   "cell_type": "code",
   "execution_count": 1,
   "metadata": {},
   "outputs": [],
   "source": [
    "import numpy as np\n",
    "import torch\n",
    "from torch import nn\n",
    "import torch.nn.functional as F"
   ]
  },
  {
   "cell_type": "code",
   "execution_count": 2,
   "metadata": {},
   "outputs": [],
   "source": [
    "# open text file and read in data as `text`\n",
    "with open('Data/BloodyCromLyrics.txt', 'r') as f:\n",
    "    text = f.read()\n",
    "text = text.lower()"
   ]
  },
  {
   "cell_type": "code",
   "execution_count": 3,
   "metadata": {},
   "outputs": [
    {
     "data": {
      "text/plain": [
       "'the goblin creeper\\nforged by elves\\nis the sword of thorin\\nis the tusk of rage\\n\\nthe sword of king und'"
      ]
     },
     "execution_count": 3,
     "metadata": {},
     "output_type": "execute_result"
    }
   ],
   "source": [
    "text[:100]"
   ]
  },
  {
   "cell_type": "code",
   "execution_count": 4,
   "metadata": {},
   "outputs": [],
   "source": [
    "# encode the text and map each character to an integer and vice versa\n",
    "\n",
    "# we create two dictionaries:\n",
    "# 1. int2char, which maps integers to characters\n",
    "# 2. char2int, which maps characters to unique integers\n",
    "chars = tuple(set(text))\n",
    "int2char = dict(enumerate(chars))\n",
    "char2int = {ch: ii for ii, ch in int2char.items()}\n",
    "\n",
    "# encode the text\n",
    "encoded = np.array([char2int[ch] for ch in text])"
   ]
  },
  {
   "cell_type": "code",
   "execution_count": 5,
   "metadata": {},
   "outputs": [
    {
     "data": {
      "text/plain": [
       "array([20, 26, 23, 16, 28,  7, 17, 22,  5, 15, 16,  8, 30, 23, 23, 10, 23,\n",
       "       30, 21, 19,  7, 30, 28, 23, 25, 16, 17, 13, 16, 23, 22, 29, 23, 12,\n",
       "       21,  5, 12, 16, 20, 26, 23, 16, 12, 31,  7, 30, 25, 16,  7, 19, 16,\n",
       "       20, 26,  7, 30,  5, 15, 21,  5, 12, 16, 20, 26, 23, 16, 20, 14, 12,\n",
       "       18, 16,  7, 19, 16, 30,  0, 28, 23, 21, 21, 20, 26, 23, 16, 12, 31,\n",
       "        7, 30, 25, 16,  7, 19, 16, 18,  5, 15, 28, 16, 14, 15, 25])"
      ]
     },
     "execution_count": 5,
     "metadata": {},
     "output_type": "execute_result"
    }
   ],
   "source": [
    "encoded[:100]"
   ]
  },
  {
   "cell_type": "code",
   "execution_count": 6,
   "metadata": {},
   "outputs": [],
   "source": [
    "def one_hot_encode(arr, n_labels):\n",
    "    \n",
    "    # Initialize the the encoded array\n",
    "    one_hot = np.zeros((arr.size, n_labels), dtype=np.float32)\n",
    "    \n",
    "    # Fill the appropriate elements with ones\n",
    "    one_hot[np.arange(one_hot.shape[0]), arr.flatten()] = 1.\n",
    "    \n",
    "    # Finally reshape it to get back to the original array\n",
    "    one_hot = one_hot.reshape((*arr.shape, n_labels))\n",
    "    \n",
    "    return one_hot"
   ]
  },
  {
   "cell_type": "code",
   "execution_count": 7,
   "metadata": {},
   "outputs": [
    {
     "name": "stdout",
     "output_type": "stream",
     "text": [
      "[[[0. 0. 0. 1. 0. 0. 0. 0.]\n",
      "  [0. 0. 0. 0. 0. 1. 0. 0.]\n",
      "  [0. 1. 0. 0. 0. 0. 0. 0.]]]\n"
     ]
    }
   ],
   "source": [
    "#check that the function works as expected\n",
    "test_seq = np.array([[3, 5, 1]])\n",
    "one_hot = one_hot_encode(test_seq, 8)\n",
    "\n",
    "print(one_hot)"
   ]
  },
  {
   "cell_type": "code",
   "execution_count": 8,
   "metadata": {},
   "outputs": [],
   "source": [
    "def get_batches(arr, batch_size, seq_length):\n",
    "    '''Create a generator that returns batches of size\n",
    "       batch_size x seq_length from arr.\n",
    "       \n",
    "       Arguments\n",
    "       ---------\n",
    "       arr: Array you want to make batches from\n",
    "       batch_size: Batch size, the number of sequences per batch\n",
    "       seq_length: Number of encoded chars in a sequence\n",
    "    '''\n",
    "    \n",
    "    batch_size_total = batch_size * seq_length\n",
    "    # total number of batches we can make\n",
    "    n_batches = len(arr)//batch_size_total\n",
    "    \n",
    "    # Keep only enough characters to make full batches\n",
    "    arr = arr[:n_batches * batch_size_total]\n",
    "    # Reshape into batch_size rows\n",
    "    arr = arr.reshape((batch_size, -1))\n",
    "    \n",
    "    # iterate through the array, one sequence at a time\n",
    "    for n in range(0, arr.shape[1], seq_length):\n",
    "        # The features\n",
    "        x = arr[:, n:n+seq_length]\n",
    "        # The targets, shifted by one\n",
    "        y = np.zeros_like(x)\n",
    "        try:\n",
    "            y[:, :-1], y[:, -1] = x[:, 1:], arr[:, n+seq_length]\n",
    "        except IndexError:\n",
    "            y[:, :-1], y[:, -1] = x[:, 1:], arr[:, 0]\n",
    "        yield x, y"
   ]
  },
  {
   "cell_type": "code",
   "execution_count": 9,
   "metadata": {},
   "outputs": [],
   "source": [
    "batches = get_batches(encoded, 8, 50)\n",
    "x, y = next(batches)"
   ]
  },
  {
   "cell_type": "code",
   "execution_count": 10,
   "metadata": {},
   "outputs": [
    {
     "name": "stdout",
     "output_type": "stream",
     "text": [
      "x\n",
      " [[20 26 23 16 28  7 17 22  5 15]\n",
      " [16 10  0 12 20 21 21 15  7 31]\n",
      " [ 7 30 28  7 20 26 16 26  0  6]\n",
      " [26 23 16 17  0 20 20 22 23 16]\n",
      " [ 0 29 23 16  8 14 20 16 20 26]\n",
      " [ 7 12 21 18  5 22 22 16 20 26]\n",
      " [30  7 20 21 30 23  0 22  6 12]\n",
      " [16 26  0 29 23 16 20  7 16 30]]\n",
      "\n",
      "y\n",
      " [[26 23 16 28  7 17 22  5 15 16]\n",
      " [10  0 12 20 21 21 15  7 31 16]\n",
      " [30 28  7 20 26 16 26  0  6  6]\n",
      " [23 16 17  0 20 20 22 23 16  5]\n",
      " [29 23 16  8 14 20 16 20 26 23]\n",
      " [12 21 18  5 22 22 16 20 26 23]\n",
      " [ 7 20 21 30 23  0 22  6 12 16]\n",
      " [26  0 29 23 16 20  7 16 30 23]]\n"
     ]
    }
   ],
   "source": [
    "# printing out the first 10 items in a sequence\n",
    "print('x\\n', x[:10, :10])\n",
    "print('\\ny\\n', y[:10, :10])"
   ]
  },
  {
   "cell_type": "code",
   "execution_count": 10,
   "metadata": {},
   "outputs": [
    {
     "name": "stdout",
     "output_type": "stream",
     "text": [
      "Training on GPU!\n"
     ]
    }
   ],
   "source": [
    "# check if GPU is available\n",
    "train_on_gpu = torch.cuda.is_available()\n",
    "if(train_on_gpu):\n",
    "    print('Training on GPU!')\n",
    "else: \n",
    "    print('No GPU available, training on CPU; consider making n_epochs very small.')"
   ]
  },
  {
   "cell_type": "code",
   "execution_count": 3,
   "metadata": {},
   "outputs": [],
   "source": [
    "class CharRNN(nn.Module):\n",
    "    \n",
    "    def __init__(self, tokens, n_hidden=256, n_layers=2,\n",
    "                               drop_prob=0.5, lr=0.001):\n",
    "        super().__init__()\n",
    "        self.drop_prob = drop_prob\n",
    "        self.n_layers = n_layers\n",
    "        self.n_hidden = n_hidden\n",
    "        self.lr = lr\n",
    "        \n",
    "        # creating character dictionaries\n",
    "        self.chars = tokens\n",
    "        self.int2char = dict(enumerate(self.chars))\n",
    "        self.char2int = {ch: ii for ii, ch in self.int2char.items()}\n",
    "        \n",
    "        ## TODO: define the LSTM\n",
    "        self.lstm = nn.LSTM(len(self.chars), n_hidden, n_layers, \n",
    "                            dropout=drop_prob, batch_first=True)\n",
    "        \n",
    "        ## TODO: define a dropout layer\n",
    "        self.dropout = nn.Dropout(drop_prob)\n",
    "        \n",
    "        ## TODO: define the final, fully-connected output layer\n",
    "        self.fc = nn.Linear(n_hidden, len(self.chars))\n",
    "      \n",
    "    \n",
    "    def forward(self, x, hidden):\n",
    "        ''' Forward pass through the network. \n",
    "            These inputs are x, and the hidden/cell state `hidden`. '''\n",
    "                \n",
    "        ## TODO: Get the outputs and the new hidden state from the lstm\n",
    "        r_output, hidden = self.lstm(x, hidden)\n",
    "        \n",
    "        ## TODO: pass through a dropout layer\n",
    "        out = self.dropout(r_output)\n",
    "        \n",
    "        # Stack up LSTM outputs using view\n",
    "        # you may need to use contiguous to reshape the output\n",
    "        out = out.contiguous().view(-1, self.n_hidden)\n",
    "        \n",
    "        ## TODO: put x through the fully-connected layer\n",
    "        out = self.fc(out)\n",
    "        \n",
    "        # return the final output and the hidden state\n",
    "        return out, hidden\n",
    "    \n",
    "    \n",
    "    def init_hidden(self, batch_size):\n",
    "        ''' Initializes hidden state '''\n",
    "        # Create two new tensors with sizes n_layers x batch_size x n_hidden,\n",
    "        # initialized to zero, for hidden state and cell state of LSTM\n",
    "        weight = next(self.parameters()).data\n",
    "        \n",
    "        if (train_on_gpu):\n",
    "            hidden = (weight.new(self.n_layers, batch_size, self.n_hidden).zero_().cuda(),\n",
    "                  weight.new(self.n_layers, batch_size, self.n_hidden).zero_().cuda())\n",
    "        else:\n",
    "            hidden = (weight.new(self.n_layers, batch_size, self.n_hidden).zero_(),\n",
    "                      weight.new(self.n_layers, batch_size, self.n_hidden).zero_())\n",
    "        \n",
    "        return hidden"
   ]
  },
  {
   "cell_type": "code",
   "execution_count": 84,
   "metadata": {},
   "outputs": [],
   "source": [
    "def train(net, data, epochs=10, batch_size=10, seq_length=50, lr=0.001, clip=5, val_frac=0.05, print_every=10):\n",
    "    ''' Training a network \n",
    "    \n",
    "        Arguments\n",
    "        ---------\n",
    "        \n",
    "        net: CharRNN network\n",
    "        data: text data to train the network\n",
    "        epochs: Number of epochs to train\n",
    "        batch_size: Number of mini-sequences per mini-batch, aka batch size\n",
    "        seq_length: Number of character steps per mini-batch\n",
    "        lr: learning rate\n",
    "        clip: gradient clipping\n",
    "        val_frac: Fraction of data to hold out for validation\n",
    "        print_every: Number of steps for printing training and validation loss\n",
    "    \n",
    "    '''\n",
    "    net.train()\n",
    "    \n",
    "    opt = torch.optim.Adam(net.parameters(), lr=lr)\n",
    "    criterion = nn.CrossEntropyLoss()\n",
    "    \n",
    "    # create training and validation data\n",
    "    val_idx = int(len(data)*(1-val_frac))\n",
    "    data, val_data = data[:val_idx], data[val_idx:]\n",
    "    \n",
    "    if(train_on_gpu):\n",
    "        net.cuda()\n",
    "    \n",
    "    counter = 0\n",
    "    n_chars = len(net.chars)\n",
    "    for e in range(epochs):\n",
    "        # initialize hidden state\n",
    "        h = net.init_hidden(batch_size)\n",
    "        \n",
    "        for x, y in get_batches(data, batch_size, seq_length):\n",
    "            counter += 1\n",
    "            \n",
    "            # One-hot encode our data and make them Torch tensors\n",
    "            x = one_hot_encode(x, n_chars)\n",
    "            inputs, targets = torch.from_numpy(x), torch.from_numpy(y)\n",
    "            \n",
    "            if(train_on_gpu):\n",
    "                inputs, targets = inputs.cuda(), targets.cuda()\n",
    "\n",
    "            # Creating new variables for the hidden state, otherwise\n",
    "            # we'd backprop through the entire training history\n",
    "            h = tuple([each.data for each in h])\n",
    "\n",
    "            # zero accumulated gradients\n",
    "            net.zero_grad()\n",
    "            \n",
    "            # get the output from the model\n",
    "            output, h = net(inputs, h)\n",
    "            \n",
    "            # calculate the loss and perform backprop\n",
    "            loss = criterion(output, targets.view(batch_size*seq_length).long())\n",
    "            loss.backward()\n",
    "            # `clip_grad_norm` helps prevent the exploding gradient problem in RNNs / LSTMs.\n",
    "            nn.utils.clip_grad_norm_(net.parameters(), clip)\n",
    "            opt.step()\n",
    "            \n",
    "            # loss stats\n",
    "            if counter % print_every == 0:\n",
    "                # Get validation loss\n",
    "                val_h = net.init_hidden(batch_size)\n",
    "                val_losses = []\n",
    "                net.eval()\n",
    "                for x, y in get_batches(val_data, batch_size, seq_length):\n",
    "                    # One-hot encode our data and make them Torch tensors\n",
    "                    x = one_hot_encode(x, n_chars)\n",
    "                    x, y = torch.from_numpy(x), torch.from_numpy(y)\n",
    "                    \n",
    "                    # Creating new variables for the hidden state, otherwise\n",
    "                    # we'd backprop through the entire training history\n",
    "                    val_h = tuple([each.data for each in val_h])\n",
    "                    \n",
    "                    inputs, targets = x, y\n",
    "                    if(train_on_gpu):\n",
    "                        inputs, targets = inputs.cuda(), targets.cuda()\n",
    "\n",
    "                    output, val_h = net(inputs, val_h)\n",
    "                    val_loss = criterion(output, targets.view(batch_size*seq_length).long())\n",
    "                \n",
    "                    val_losses.append(val_loss.item())\n",
    "                \n",
    "                net.train() # reset to train mode after iterationg through validation data\n",
    "                \n",
    "                print(\"Epoch: {}/{}...\".format(e+1, epochs),\n",
    "                      \"Step: {}...\".format(counter),\n",
    "                      \"Loss: {:.4f}...\".format(loss.item()),\n",
    "                      \"Val Loss: {:.4f}\".format(np.mean(val_losses)))"
   ]
  },
  {
   "cell_type": "code",
   "execution_count": 86,
   "metadata": {},
   "outputs": [
    {
     "name": "stdout",
     "output_type": "stream",
     "text": [
      "CharRNN(\n",
      "  (lstm): LSTM(32, 512, num_layers=2, batch_first=True, dropout=0.5)\n",
      "  (dropout): Dropout(p=0.5, inplace=False)\n",
      "  (fc): Linear(in_features=512, out_features=32, bias=True)\n",
      ")\n"
     ]
    }
   ],
   "source": [
    "# define and print the net\n",
    "n_hidden = 512\n",
    "n_layers = 2\n",
    "\n",
    "net = CharRNN(chars, n_hidden, n_layers)\n",
    "print(net)"
   ]
  },
  {
   "cell_type": "code",
   "execution_count": 89,
   "metadata": {},
   "outputs": [
    {
     "name": "stdout",
     "output_type": "stream",
     "text": [
      "Epoch: 1/50... Step: 10... Loss: 0.8751... Val Loss: nan\n",
      "Epoch: 2/50... Step: 20... Loss: 0.7612... Val Loss: nan\n",
      "Epoch: 3/50... Step: 30... Loss: 0.3793... Val Loss: nan\n",
      "Epoch: 3/50... Step: 40... Loss: 0.3957... Val Loss: nan\n",
      "Epoch: 4/50... Step: 50... Loss: 0.4400... Val Loss: nan\n",
      "Epoch: 5/50... Step: 60... Loss: 0.2929... Val Loss: nan\n",
      "Epoch: 5/50... Step: 70... Loss: 0.3938... Val Loss: nan\n",
      "Epoch: 6/50... Step: 80... Loss: 0.3448... Val Loss: nan\n",
      "Epoch: 7/50... Step: 90... Loss: 0.3012... Val Loss: nan\n",
      "Epoch: 8/50... Step: 100... Loss: 0.2209... Val Loss: nan\n",
      "Epoch: 8/50... Step: 110... Loss: 0.2579... Val Loss: nan\n",
      "Epoch: 9/50... Step: 120... Loss: 0.2456... Val Loss: nan\n",
      "Epoch: 10/50... Step: 130... Loss: 0.2000... Val Loss: nan\n",
      "Epoch: 10/50... Step: 140... Loss: 0.2265... Val Loss: nan\n",
      "Epoch: 11/50... Step: 150... Loss: 0.2275... Val Loss: nan\n",
      "Epoch: 12/50... Step: 160... Loss: 0.2312... Val Loss: nan\n",
      "Epoch: 13/50... Step: 170... Loss: 0.2166... Val Loss: nan\n",
      "Epoch: 13/50... Step: 180... Loss: 0.1964... Val Loss: nan\n",
      "Epoch: 14/50... Step: 190... Loss: 0.1847... Val Loss: nan\n",
      "Epoch: 15/50... Step: 200... Loss: 0.1239... Val Loss: nan\n",
      "Epoch: 15/50... Step: 210... Loss: 0.1822... Val Loss: nan\n",
      "Epoch: 16/50... Step: 220... Loss: 0.1608... Val Loss: nan\n",
      "Epoch: 17/50... Step: 230... Loss: 0.1704... Val Loss: nan\n",
      "Epoch: 18/50... Step: 240... Loss: 0.1097... Val Loss: nan\n",
      "Epoch: 18/50... Step: 250... Loss: 0.1230... Val Loss: nan\n",
      "Epoch: 19/50... Step: 260... Loss: 0.1175... Val Loss: nan\n",
      "Epoch: 20/50... Step: 270... Loss: 0.0869... Val Loss: nan\n",
      "Epoch: 20/50... Step: 280... Loss: 0.0854... Val Loss: nan\n",
      "Epoch: 21/50... Step: 290... Loss: 0.0812... Val Loss: nan\n",
      "Epoch: 22/50... Step: 300... Loss: 0.0636... Val Loss: nan\n",
      "Epoch: 23/50... Step: 310... Loss: 0.0862... Val Loss: nan\n",
      "Epoch: 23/50... Step: 320... Loss: 0.1040... Val Loss: nan\n",
      "Epoch: 24/50... Step: 330... Loss: 0.0914... Val Loss: nan\n",
      "Epoch: 25/50... Step: 340... Loss: 0.0528... Val Loss: nan\n",
      "Epoch: 25/50... Step: 350... Loss: 0.0543... Val Loss: nan\n",
      "Epoch: 26/50... Step: 360... Loss: 0.0567... Val Loss: nan\n",
      "Epoch: 27/50... Step: 370... Loss: 0.0776... Val Loss: nan\n",
      "Epoch: 28/50... Step: 380... Loss: 0.0642... Val Loss: nan\n",
      "Epoch: 28/50... Step: 390... Loss: 0.0789... Val Loss: nan\n",
      "Epoch: 29/50... Step: 400... Loss: 0.0892... Val Loss: nan\n",
      "Epoch: 30/50... Step: 410... Loss: 0.1206... Val Loss: nan\n",
      "Epoch: 30/50... Step: 420... Loss: 0.0754... Val Loss: nan\n",
      "Epoch: 31/50... Step: 430... Loss: 0.0590... Val Loss: nan\n",
      "Epoch: 32/50... Step: 440... Loss: 0.1096... Val Loss: nan\n",
      "Epoch: 33/50... Step: 450... Loss: 0.0960... Val Loss: nan\n",
      "Epoch: 33/50... Step: 460... Loss: 0.0979... Val Loss: nan\n",
      "Epoch: 34/50... Step: 470... Loss: 0.0424... Val Loss: nan\n",
      "Epoch: 35/50... Step: 480... Loss: 0.0561... Val Loss: nan\n",
      "Epoch: 35/50... Step: 490... Loss: 0.0637... Val Loss: nan\n",
      "Epoch: 36/50... Step: 500... Loss: 0.0490... Val Loss: nan\n",
      "Epoch: 37/50... Step: 510... Loss: 0.0335... Val Loss: nan\n",
      "Epoch: 38/50... Step: 520... Loss: 0.0408... Val Loss: nan\n",
      "Epoch: 38/50... Step: 530... Loss: 0.0572... Val Loss: nan\n",
      "Epoch: 39/50... Step: 540... Loss: 0.0589... Val Loss: nan\n",
      "Epoch: 40/50... Step: 550... Loss: 0.0328... Val Loss: nan\n",
      "Epoch: 40/50... Step: 560... Loss: 0.0865... Val Loss: nan\n",
      "Epoch: 41/50... Step: 570... Loss: 0.0489... Val Loss: nan\n",
      "Epoch: 42/50... Step: 580... Loss: 0.0879... Val Loss: nan\n",
      "Epoch: 43/50... Step: 590... Loss: 0.0554... Val Loss: nan\n",
      "Epoch: 43/50... Step: 600... Loss: 0.0988... Val Loss: nan\n",
      "Epoch: 44/50... Step: 610... Loss: 0.0436... Val Loss: nan\n",
      "Epoch: 45/50... Step: 620... Loss: 0.0365... Val Loss: nan\n",
      "Epoch: 45/50... Step: 630... Loss: 0.0461... Val Loss: nan\n",
      "Epoch: 46/50... Step: 640... Loss: 0.0704... Val Loss: nan\n",
      "Epoch: 47/50... Step: 650... Loss: 0.0491... Val Loss: nan\n",
      "Epoch: 48/50... Step: 660... Loss: 0.0718... Val Loss: nan\n",
      "Epoch: 48/50... Step: 670... Loss: 0.0494... Val Loss: nan\n",
      "Epoch: 49/50... Step: 680... Loss: 0.0419... Val Loss: nan\n",
      "Epoch: 50/50... Step: 690... Loss: 0.0366... Val Loss: nan\n",
      "Epoch: 50/50... Step: 700... Loss: 0.0399... Val Loss: nan\n"
     ]
    }
   ],
   "source": [
    "batch_size = 5\n",
    "seq_length = 50\n",
    "n_epochs = 50 # start smaller if you are just testing initial behavior\n",
    "\n",
    "# train the model\n",
    "train(net, encoded, epochs=n_epochs, batch_size=batch_size, seq_length=seq_length, lr=0.001, print_every=10)"
   ]
  },
  {
   "cell_type": "code",
   "execution_count": 91,
   "metadata": {},
   "outputs": [
    {
     "name": "stdout",
     "output_type": "stream",
     "text": [
      "warlock than thou\n",
      "\n",
      "four gots for the chaos\n",
      "waiting in the dead cold north\n",
      "four brothers in the dark\n",
      "ancient portal of magic\n",
      "\n",
      "beastman spread the dead\n",
      "bloodthirster brings hell\n",
      "pleaguebearer will rot\n",
      "realms of chaos till end\n",
      "\n",
      "mutations for the men\n",
      "the precious gift of chaos\n",
      "itâ´s time to begin\n",
      "toe broody in the dark\n",
      "the goblins and in the battle is the only way to win\n",
      "\n",
      "we enter the duny th owl sherp fot the elf now is stren shilan a chimr of\n",
      "the woords\n",
      "the wing in battle again and again\n",
      "seaching the glor\n"
     ]
    }
   ],
   "source": [
    "print(sample(net, 500, prime='warlock', top_k=3))"
   ]
  },
  {
   "cell_type": "code",
   "execution_count": 92,
   "metadata": {},
   "outputs": [],
   "source": [
    "# change the name, for saving multiple files\n",
    "model_name = 'rnn_20_epoch.net'\n",
    "\n",
    "checkpoint = {'n_hidden': net.n_hidden,\n",
    "              'n_layers': net.n_layers,\n",
    "              'state_dict': net.state_dict(),\n",
    "              'tokens': net.chars}\n",
    "\n",
    "with open(model_name, 'wb') as f:\n",
    "    torch.save(checkpoint, f)"
   ]
  },
  {
   "cell_type": "code",
   "execution_count": 8,
   "metadata": {},
   "outputs": [],
   "source": [
    "def predict(net, char, h=None, top_k=None):\n",
    "        ''' Given a character, predict the next character.\n",
    "            Returns the predicted character and the hidden state.\n",
    "        '''\n",
    "        \n",
    "        # tensor inputs\n",
    "        x = np.array([[net.char2int[char]]])\n",
    "        x = one_hot_encode(x, len(net.chars))\n",
    "        inputs = torch.from_numpy(x)\n",
    "        \n",
    "        if(train_on_gpu):\n",
    "            inputs = inputs.cuda()\n",
    "        \n",
    "        # detach hidden state from history\n",
    "        h = tuple([each.data for each in h])\n",
    "        # get the output of the model\n",
    "        out, h = net(inputs, h)\n",
    "\n",
    "        # get the character probabilities\n",
    "        p = F.softmax(out, dim=1).data\n",
    "        if(train_on_gpu):\n",
    "            p = p.cpu() # move to cpu\n",
    "        \n",
    "        # get top characters\n",
    "        if top_k is None:\n",
    "            top_ch = np.arange(len(net.chars))\n",
    "        else:\n",
    "            p, top_ch = p.topk(top_k)\n",
    "            top_ch = top_ch.numpy().squeeze()\n",
    "        \n",
    "        # select the likely next character with some element of randomness\n",
    "        p = p.numpy().squeeze()\n",
    "        char = np.random.choice(top_ch, p=p/p.sum())\n",
    "        \n",
    "        # return the encoded value of the predicted char and the hidden state\n",
    "        return net.int2char[char], h"
   ]
  },
  {
   "cell_type": "code",
   "execution_count": 7,
   "metadata": {},
   "outputs": [],
   "source": [
    "def sample(net, size, prime='The', top_k=None):\n",
    "        \n",
    "    if(train_on_gpu):\n",
    "        net.cuda()\n",
    "    else:\n",
    "        net.cpu()\n",
    "    \n",
    "    net.eval() # eval mode\n",
    "    \n",
    "    # First off, run through the prime characters\n",
    "    chars = [ch for ch in prime]\n",
    "    h = net.init_hidden(1)\n",
    "    for ch in prime:\n",
    "        char, h = predict(net, ch, h, top_k=top_k)\n",
    "\n",
    "    chars.append(char)\n",
    "    \n",
    "    # Now pass in the previous character and get a new one\n",
    "    for ii in range(size):\n",
    "        char, h = predict(net, chars[-1], h, top_k=top_k)\n",
    "        chars.append(char)\n",
    "\n",
    "    return ''.join(chars)"
   ]
  },
  {
   "cell_type": "code",
   "execution_count": 52,
   "metadata": {},
   "outputs": [
    {
     "name": "stdout",
     "output_type": "stream",
     "text": [
      "dead\n",
      "\n",
      "awe of and an yyur\n",
      "on\n",
      "wu ard enke theo bring\n",
      "in\n",
      "d mari sou  arim\n",
      "my eom\n",
      "the singe of y omars froo the cave are\n",
      "\n",
      "theroword for ghard ar the dinti s marke no share\n",
      "ty blost er wie in wey tie shel\n",
      "\n",
      "d the wood fin thermin in the brigh\n",
      "t eamcheof in the bring\n",
      "the browkish the carin\n",
      "the cowe doul ane you areve youl and stars af ino hing tome forlenof tares\n",
      "\n",
      "ill and you\n",
      "\n",
      "the wizard\n",
      "assing to the forle dey thoug\n",
      "\n",
      "the gobrin os pire\n",
      "\n",
      "my allas\n",
      "\n",
      "worgon yon you\n",
      "\n",
      "\n",
      "illlarking the fiol in eyemer brothin ais\n",
      "\n",
      "\n"
     ]
    }
   ],
   "source": [
    "print(sample(net, 500, prime='dead', top_k=3))"
   ]
  },
  {
   "cell_type": "code",
   "execution_count": 4,
   "metadata": {},
   "outputs": [
    {
     "data": {
      "text/plain": [
       "<All keys matched successfully>"
      ]
     },
     "execution_count": 4,
     "metadata": {},
     "output_type": "execute_result"
    }
   ],
   "source": [
    "# Here we have loaded in a model that trained over 20 epochs `rnn_20_epoch.net`\n",
    "with open('rnn_20_epoch.net', 'rb') as f:\n",
    "    checkpoint = torch.load(f)\n",
    "    \n",
    "loaded = CharRNN(checkpoint['tokens'], n_hidden=checkpoint['n_hidden'], n_layers=checkpoint['n_layers'])\n",
    "loaded.load_state_dict(checkpoint['state_dict'])"
   ]
  },
  {
   "cell_type": "code",
   "execution_count": 12,
   "metadata": {},
   "outputs": [
    {
     "ename": "NameError",
     "evalue": "name 'one_hot_encode' is not defined",
     "output_type": "error",
     "traceback": [
      "\u001b[1;31m---------------------------------------------------------------------------\u001b[0m",
      "\u001b[1;31mNameError\u001b[0m                                 Traceback (most recent call last)",
      "\u001b[1;32m<ipython-input-12-802af0c167e8>\u001b[0m in \u001b[0;36m<module>\u001b[1;34m\u001b[0m\n\u001b[0;32m      1\u001b[0m \u001b[1;31m# Sample using a loaded model\u001b[0m\u001b[1;33m\u001b[0m\u001b[1;33m\u001b[0m\u001b[1;33m\u001b[0m\u001b[0m\n\u001b[1;32m----> 2\u001b[1;33m \u001b[0mprint\u001b[0m\u001b[1;33m(\u001b[0m\u001b[0msample\u001b[0m\u001b[1;33m(\u001b[0m\u001b[0mloaded\u001b[0m\u001b[1;33m,\u001b[0m \u001b[1;36m2000\u001b[0m\u001b[1;33m,\u001b[0m \u001b[0mtop_k\u001b[0m\u001b[1;33m=\u001b[0m\u001b[1;36m5\u001b[0m\u001b[1;33m,\u001b[0m \u001b[0mprime\u001b[0m\u001b[1;33m=\u001b[0m\u001b[1;34m\"warlock\"\u001b[0m\u001b[1;33m)\u001b[0m\u001b[1;33m)\u001b[0m\u001b[1;33m\u001b[0m\u001b[1;33m\u001b[0m\u001b[0m\n\u001b[0m",
      "\u001b[1;32m<ipython-input-7-4d2902f3d55b>\u001b[0m in \u001b[0;36msample\u001b[1;34m(net, size, prime, top_k)\u001b[0m\n\u001b[0;32m     12\u001b[0m     \u001b[0mh\u001b[0m \u001b[1;33m=\u001b[0m \u001b[0mnet\u001b[0m\u001b[1;33m.\u001b[0m\u001b[0minit_hidden\u001b[0m\u001b[1;33m(\u001b[0m\u001b[1;36m1\u001b[0m\u001b[1;33m)\u001b[0m\u001b[1;33m\u001b[0m\u001b[1;33m\u001b[0m\u001b[0m\n\u001b[0;32m     13\u001b[0m     \u001b[1;32mfor\u001b[0m \u001b[0mch\u001b[0m \u001b[1;32min\u001b[0m \u001b[0mprime\u001b[0m\u001b[1;33m:\u001b[0m\u001b[1;33m\u001b[0m\u001b[1;33m\u001b[0m\u001b[0m\n\u001b[1;32m---> 14\u001b[1;33m         \u001b[0mchar\u001b[0m\u001b[1;33m,\u001b[0m \u001b[0mh\u001b[0m \u001b[1;33m=\u001b[0m \u001b[0mpredict\u001b[0m\u001b[1;33m(\u001b[0m\u001b[0mnet\u001b[0m\u001b[1;33m,\u001b[0m \u001b[0mch\u001b[0m\u001b[1;33m,\u001b[0m \u001b[0mh\u001b[0m\u001b[1;33m,\u001b[0m \u001b[0mtop_k\u001b[0m\u001b[1;33m=\u001b[0m\u001b[0mtop_k\u001b[0m\u001b[1;33m)\u001b[0m\u001b[1;33m\u001b[0m\u001b[1;33m\u001b[0m\u001b[0m\n\u001b[0m\u001b[0;32m     15\u001b[0m \u001b[1;33m\u001b[0m\u001b[0m\n\u001b[0;32m     16\u001b[0m     \u001b[0mchars\u001b[0m\u001b[1;33m.\u001b[0m\u001b[0mappend\u001b[0m\u001b[1;33m(\u001b[0m\u001b[0mchar\u001b[0m\u001b[1;33m)\u001b[0m\u001b[1;33m\u001b[0m\u001b[1;33m\u001b[0m\u001b[0m\n",
      "\u001b[1;32m<ipython-input-8-b77af79f65c1>\u001b[0m in \u001b[0;36mpredict\u001b[1;34m(net, char, h, top_k)\u001b[0m\n\u001b[0;32m      6\u001b[0m         \u001b[1;31m# tensor inputs\u001b[0m\u001b[1;33m\u001b[0m\u001b[1;33m\u001b[0m\u001b[1;33m\u001b[0m\u001b[0m\n\u001b[0;32m      7\u001b[0m         \u001b[0mx\u001b[0m \u001b[1;33m=\u001b[0m \u001b[0mnp\u001b[0m\u001b[1;33m.\u001b[0m\u001b[0marray\u001b[0m\u001b[1;33m(\u001b[0m\u001b[1;33m[\u001b[0m\u001b[1;33m[\u001b[0m\u001b[0mnet\u001b[0m\u001b[1;33m.\u001b[0m\u001b[0mchar2int\u001b[0m\u001b[1;33m[\u001b[0m\u001b[0mchar\u001b[0m\u001b[1;33m]\u001b[0m\u001b[1;33m]\u001b[0m\u001b[1;33m]\u001b[0m\u001b[1;33m)\u001b[0m\u001b[1;33m\u001b[0m\u001b[1;33m\u001b[0m\u001b[0m\n\u001b[1;32m----> 8\u001b[1;33m         \u001b[0mx\u001b[0m \u001b[1;33m=\u001b[0m \u001b[0mone_hot_encode\u001b[0m\u001b[1;33m(\u001b[0m\u001b[0mx\u001b[0m\u001b[1;33m,\u001b[0m \u001b[0mlen\u001b[0m\u001b[1;33m(\u001b[0m\u001b[0mnet\u001b[0m\u001b[1;33m.\u001b[0m\u001b[0mchars\u001b[0m\u001b[1;33m)\u001b[0m\u001b[1;33m)\u001b[0m\u001b[1;33m\u001b[0m\u001b[1;33m\u001b[0m\u001b[0m\n\u001b[0m\u001b[0;32m      9\u001b[0m         \u001b[0minputs\u001b[0m \u001b[1;33m=\u001b[0m \u001b[0mtorch\u001b[0m\u001b[1;33m.\u001b[0m\u001b[0mfrom_numpy\u001b[0m\u001b[1;33m(\u001b[0m\u001b[0mx\u001b[0m\u001b[1;33m)\u001b[0m\u001b[1;33m\u001b[0m\u001b[1;33m\u001b[0m\u001b[0m\n\u001b[0;32m     10\u001b[0m \u001b[1;33m\u001b[0m\u001b[0m\n",
      "\u001b[1;31mNameError\u001b[0m: name 'one_hot_encode' is not defined"
     ]
    }
   ],
   "source": [
    "# Sample using a loaded model\n",
    "print(sample(loaded, 2000, top_k=5, prime=\"warlock\"))"
   ]
  },
  {
   "cell_type": "code",
   "execution_count": null,
   "metadata": {},
   "outputs": [],
   "source": []
  }
 ],
 "metadata": {
  "file_extension": ".py",
  "kernelspec": {
   "display_name": "Python 3.6.8 64-bit",
   "language": "python",
   "name": "python36864bitaa36217682c145a9850aa3d4dd4b9b9a"
  },
  "language_info": {
   "codemirror_mode": {
    "name": "ipython",
    "version": 3
   },
   "file_extension": ".py",
   "mimetype": "text/x-python",
   "name": "python",
   "nbconvert_exporter": "python",
   "pygments_lexer": "ipython3",
   "version": "3.6.8"
  },
  "mimetype": "text/x-python",
  "name": "python",
  "npconvert_exporter": "python",
  "pygments_lexer": "ipython3",
  "version": 3
 },
 "nbformat": 4,
 "nbformat_minor": 2
}
