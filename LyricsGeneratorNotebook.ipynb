{
 "nbformat": 4,
 "nbformat_minor": 2,
 "metadata": {
  "language_info": {
   "name": "python",
   "codemirror_mode": {
    "name": "ipython",
    "version": 3
   },
   "version": "3.6.8-final"
  },
  "orig_nbformat": 2,
  "file_extension": ".py",
  "mimetype": "text/x-python",
  "name": "python",
  "npconvert_exporter": "python",
  "pygments_lexer": "ipython3",
  "version": 3,
  "kernelspec": {
   "name": "python36864bitvenvvenv6f4b24214f614125b4401e1f214db9c9",
   "display_name": "Python 3.6.8 64-bit ('venv': venv)"
  }
 },
 "cells": [
  {
   "cell_type": "code",
   "execution_count": 23,
   "metadata": {},
   "outputs": [],
   "source": [
    "import numpy as np\n",
    "import torch\n",
    "from torch import nn\n",
    "import torch.nn.functional as F"
   ]
  },
  {
   "cell_type": "code",
   "execution_count": 24,
   "metadata": {},
   "outputs": [],
   "source": [
    "# open text file and read in data as `text`\n",
    "with open('Data/BloodyCromLyrics.txt', 'r') as f:\n",
    "    text = f.read()"
   ]
  },
  {
   "cell_type": "code",
   "execution_count": 25,
   "metadata": {},
   "outputs": [
    {
     "data": {
      "text/plain": "'THE GOBLIN CREEPER\\nFORGED BY ELVES\\nIS THE SWORD OF THORIN\\nIS THE TUSK OF RAGE\\n\\nTHE SWORD OF KING UND'"
     },
     "execution_count": 25,
     "metadata": {},
     "output_type": "execute_result"
    }
   ],
   "source": [
    "text[:100]"
   ]
  },
  {
   "cell_type": "code",
   "execution_count": 26,
   "metadata": {},
   "outputs": [],
   "source": [
    "# encode the text and map each character to an integer and vice versa\n",
    "\n",
    "# we create two dictionaries:\n",
    "# 1. int2char, which maps integers to characters\n",
    "# 2. char2int, which maps characters to unique integers\n",
    "chars = tuple(set(text))\n",
    "int2char = dict(enumerate(chars))\n",
    "char2int = {ch: ii for ii, ch in int2char.items()}\n",
    "\n",
    "# encode the text\n",
    "encoded = np.array([char2int[ch] for ch in text])"
   ]
  },
  {
   "cell_type": "code",
   "execution_count": 27,
   "metadata": {},
   "outputs": [
    {
     "data": {
      "text/plain": "array([19, 50, 14, 46,  2,  8, 11, 41, 53, 17, 46, 38, 21, 14, 14, 13, 14,\n       21, 39, 40,  8, 21,  2, 14, 54, 46, 11, 48, 46, 14, 41,  1, 14, 20,\n       39, 53, 20, 46, 19, 50, 14, 46, 20, 28,  8, 21, 54, 46,  8, 40, 46,\n       19, 50,  8, 21, 53, 17, 39, 53, 20, 46, 19, 50, 14, 46, 19, 24, 20,\n       37, 46,  8, 40, 46, 21,  5,  2, 14, 39, 39, 19, 50, 14, 46, 20, 28,\n        8, 21, 54, 46,  8, 40, 46, 37, 53, 17,  2, 46, 24, 17, 54])"
     },
     "execution_count": 27,
     "metadata": {},
     "output_type": "execute_result"
    }
   ],
   "source": [
    "encoded[:100]"
   ]
  },
  {
   "cell_type": "code",
   "execution_count": 28,
   "metadata": {},
   "outputs": [],
   "source": [
    "def one_hot_encode(arr, n_labels):\n",
    "    \n",
    "    # Initialize the the encoded array\n",
    "    one_hot = np.zeros((arr.size, n_labels), dtype=np.float32)\n",
    "    \n",
    "    # Fill the appropriate elements with ones\n",
    "    one_hot[np.arange(one_hot.shape[0]), arr.flatten()] = 1.\n",
    "    \n",
    "    # Finally reshape it to get back to the original array\n",
    "    one_hot = one_hot.reshape((*arr.shape, n_labels))\n",
    "    \n",
    "    return one_hot"
   ]
  },
  {
   "cell_type": "code",
   "execution_count": 29,
   "metadata": {},
   "outputs": [
    {
     "name": "stdout",
     "output_type": "stream",
     "text": "[[[0. 0. 0. 1. 0. 0. 0. 0.]\n  [0. 0. 0. 0. 0. 1. 0. 0.]\n  [0. 1. 0. 0. 0. 0. 0. 0.]]]\n"
    }
   ],
   "source": [
    "#check that the function works as expected\n",
    "test_seq = np.array([[3, 5, 1]])\n",
    "one_hot = one_hot_encode(test_seq, 8)\n",
    "\n",
    "print(one_hot)"
   ]
  },
  {
   "cell_type": "code",
   "execution_count": 30,
   "metadata": {},
   "outputs": [],
   "source": [
    "def get_batches(arr, batch_size, seq_length):\n",
    "    '''Create a generator that returns batches of size\n",
    "       batch_size x seq_length from arr.\n",
    "       \n",
    "       Arguments\n",
    "       ---------\n",
    "       arr: Array you want to make batches from\n",
    "       batch_size: Batch size, the number of sequences per batch\n",
    "       seq_length: Number of encoded chars in a sequence\n",
    "    '''\n",
    "    \n",
    "    batch_size_total = batch_size * seq_length\n",
    "    # total number of batches we can make\n",
    "    n_batches = len(arr)//batch_size_total\n",
    "    \n",
    "    # Keep only enough characters to make full batches\n",
    "    arr = arr[:n_batches * batch_size_total]\n",
    "    # Reshape into batch_size rows\n",
    "    arr = arr.reshape((batch_size, -1))\n",
    "    \n",
    "    # iterate through the array, one sequence at a time\n",
    "    for n in range(0, arr.shape[1], seq_length):\n",
    "        # The features\n",
    "        x = arr[:, n:n+seq_length]\n",
    "        # The targets, shifted by one\n",
    "        y = np.zeros_like(x)\n",
    "        try:\n",
    "            y[:, :-1], y[:, -1] = x[:, 1:], arr[:, n+seq_length]\n",
    "        except IndexError:\n",
    "            y[:, :-1], y[:, -1] = x[:, 1:], arr[:, 0]\n",
    "        yield x, y"
   ]
  },
  {
   "cell_type": "code",
   "execution_count": 31,
   "metadata": {},
   "outputs": [],
   "source": [
    "batches = get_batches(encoded, 8, 50)\n",
    "x, y = next(batches)"
   ]
  },
  {
   "cell_type": "code",
   "execution_count": 32,
   "metadata": {},
   "outputs": [
    {
     "name": "stdout",
     "output_type": "stream",
     "text": "x\n [[19 50 14 46  2  8 11 41 53 17]\n [28  8  8 54 20 39 54 14  5 54]\n [48 46 20 28  8 21 54 39 44 48]\n [ 4  4 34 55 49  4 39  5 23 23]\n [36  3  4 46 34 32 46 25 36  3]\n [46 12 27 25 25  6  3 46 49  7]\n [27 45 55 46  7 34  6 25 36 39]\n [ 3 46  7 34  4  3 46  3 22  3]]\n\ny\n [[50 14 46  2  8 11 41 53 17 46]\n [ 8  8 54 20 39 54 14  5 54 46]\n [46 20 28  8 21 54 39 44 48 46]\n [ 4 34 55 49  4 39  5 23 23  3]\n [ 3  4 46 34 32 46 25 36  3 46]\n [12 27 25 25  6  3 46 49  7 46]\n [45 55 46  7 34  6 25 36 39 39]\n [46  7 34  4  3 46  3 22  3 32]]\n"
    }
   ],
   "source": [
    "# printing out the first 10 items in a sequence\n",
    "print('x\\n', x[:10, :10])\n",
    "print('\\ny\\n', y[:10, :10])"
   ]
  },
  {
   "cell_type": "code",
   "execution_count": 33,
   "metadata": {},
   "outputs": [
    {
     "name": "stdout",
     "output_type": "stream",
     "text": "No GPU available, training on CPU; consider making n_epochs very small.\n"
    }
   ],
   "source": [
    "# check if GPU is available\n",
    "train_on_gpu = torch.cuda.is_available()\n",
    "if(train_on_gpu):\n",
    "    print('Training on GPU!')\n",
    "else: \n",
    "    print('No GPU available, training on CPU; consider making n_epochs very small.')"
   ]
  },
  {
   "cell_type": "code",
   "execution_count": 34,
   "metadata": {},
   "outputs": [],
   "source": [
    "class CharRNN(nn.Module):\n",
    "    \n",
    "    def __init__(self, tokens, n_hidden=256, n_layers=2,\n",
    "                               drop_prob=0.5, lr=0.001):\n",
    "        super().__init__()\n",
    "        self.drop_prob = drop_prob\n",
    "        self.n_layers = n_layers\n",
    "        self.n_hidden = n_hidden\n",
    "        self.lr = lr\n",
    "        \n",
    "        # creating character dictionaries\n",
    "        self.chars = tokens\n",
    "        self.int2char = dict(enumerate(self.chars))\n",
    "        self.char2int = {ch: ii for ii, ch in self.int2char.items()}\n",
    "        \n",
    "        ## TODO: define the LSTM\n",
    "        self.lstm = nn.LSTM(len(self.chars), n_hidden, n_layers, \n",
    "                            dropout=drop_prob, batch_first=True)\n",
    "        \n",
    "        ## TODO: define a dropout layer\n",
    "        self.dropout = nn.Dropout(drop_prob)\n",
    "        \n",
    "        ## TODO: define the final, fully-connected output layer\n",
    "        self.fc = nn.Linear(n_hidden, len(self.chars))\n",
    "      \n",
    "    \n",
    "    def forward(self, x, hidden):\n",
    "        ''' Forward pass through the network. \n",
    "            These inputs are x, and the hidden/cell state `hidden`. '''\n",
    "                \n",
    "        ## TODO: Get the outputs and the new hidden state from the lstm\n",
    "        r_output, hidden = self.lstm(x, hidden)\n",
    "        \n",
    "        ## TODO: pass through a dropout layer\n",
    "        out = self.dropout(r_output)\n",
    "        \n",
    "        # Stack up LSTM outputs using view\n",
    "        # you may need to use contiguous to reshape the output\n",
    "        out = out.contiguous().view(-1, self.n_hidden)\n",
    "        \n",
    "        ## TODO: put x through the fully-connected layer\n",
    "        out = self.fc(out)\n",
    "        \n",
    "        # return the final output and the hidden state\n",
    "        return out, hidden\n",
    "    \n",
    "    \n",
    "    def init_hidden(self, batch_size):\n",
    "        ''' Initializes hidden state '''\n",
    "        # Create two new tensors with sizes n_layers x batch_size x n_hidden,\n",
    "        # initialized to zero, for hidden state and cell state of LSTM\n",
    "        weight = next(self.parameters()).data\n",
    "        \n",
    "        if (train_on_gpu):\n",
    "            hidden = (weight.new(self.n_layers, batch_size, self.n_hidden).zero_().cuda(),\n",
    "                  weight.new(self.n_layers, batch_size, self.n_hidden).zero_().cuda())\n",
    "        else:\n",
    "            hidden = (weight.new(self.n_layers, batch_size, self.n_hidden).zero_(),\n",
    "                      weight.new(self.n_layers, batch_size, self.n_hidden).zero_())\n",
    "        \n",
    "        return hidden"
   ]
  },
  {
   "cell_type": "code",
   "execution_count": 35,
   "metadata": {},
   "outputs": [],
   "source": [
    "def train(net, data, epochs=10, batch_size=10, seq_length=50, lr=0.001, clip=5, val_frac=0.1, print_every=10):\n",
    "    ''' Training a network \n",
    "    \n",
    "        Arguments\n",
    "        ---------\n",
    "        \n",
    "        net: CharRNN network\n",
    "        data: text data to train the network\n",
    "        epochs: Number of epochs to train\n",
    "        batch_size: Number of mini-sequences per mini-batch, aka batch size\n",
    "        seq_length: Number of character steps per mini-batch\n",
    "        lr: learning rate\n",
    "        clip: gradient clipping\n",
    "        val_frac: Fraction of data to hold out for validation\n",
    "        print_every: Number of steps for printing training and validation loss\n",
    "    \n",
    "    '''\n",
    "    net.train()\n",
    "    \n",
    "    opt = torch.optim.Adam(net.parameters(), lr=lr)\n",
    "    criterion = nn.CrossEntropyLoss()\n",
    "    \n",
    "    # create training and validation data\n",
    "    val_idx = int(len(data)*(1-val_frac))\n",
    "    data, val_data = data[:val_idx], data[val_idx:]\n",
    "    \n",
    "    if(train_on_gpu):\n",
    "        net.cuda()\n",
    "    \n",
    "    counter = 0\n",
    "    n_chars = len(net.chars)\n",
    "    for e in range(epochs):\n",
    "        # initialize hidden state\n",
    "        h = net.init_hidden(batch_size)\n",
    "        \n",
    "        for x, y in get_batches(data, batch_size, seq_length):\n",
    "            counter += 1\n",
    "            \n",
    "            # One-hot encode our data and make them Torch tensors\n",
    "            x = one_hot_encode(x, n_chars)\n",
    "            inputs, targets = torch.from_numpy(x), torch.from_numpy(y)\n",
    "            \n",
    "            if(train_on_gpu):\n",
    "                inputs, targets = inputs.cuda(), targets.cuda()\n",
    "\n",
    "            # Creating new variables for the hidden state, otherwise\n",
    "            # we'd backprop through the entire training history\n",
    "            h = tuple([each.data for each in h])\n",
    "\n",
    "            # zero accumulated gradients\n",
    "            net.zero_grad()\n",
    "            \n",
    "            # get the output from the model\n",
    "            output, h = net(inputs, h)\n",
    "            \n",
    "            # calculate the loss and perform backprop\n",
    "            loss = criterion(output, targets.view(batch_size*seq_length).long())\n",
    "            loss.backward()\n",
    "            # `clip_grad_norm` helps prevent the exploding gradient problem in RNNs / LSTMs.\n",
    "            nn.utils.clip_grad_norm_(net.parameters(), clip)\n",
    "            opt.step()\n",
    "            \n",
    "            # loss stats\n",
    "            if counter % print_every == 0:\n",
    "                # Get validation loss\n",
    "                val_h = net.init_hidden(batch_size)\n",
    "                val_losses = []\n",
    "                net.eval()\n",
    "                for x, y in get_batches(val_data, batch_size, seq_length):\n",
    "                    # One-hot encode our data and make them Torch tensors\n",
    "                    x = one_hot_encode(x, n_chars)\n",
    "                    x, y = torch.from_numpy(x), torch.from_numpy(y)\n",
    "                    \n",
    "                    # Creating new variables for the hidden state, otherwise\n",
    "                    # we'd backprop through the entire training history\n",
    "                    val_h = tuple([each.data for each in val_h])\n",
    "                    \n",
    "                    inputs, targets = x, y\n",
    "                    if(train_on_gpu):\n",
    "                        inputs, targets = inputs.cuda(), targets.cuda()\n",
    "\n",
    "                    output, val_h = net(inputs, val_h)\n",
    "                    val_loss = criterion(output, targets.view(batch_size*seq_length).long())\n",
    "                \n",
    "                    val_losses.append(val_loss.item())\n",
    "                \n",
    "                net.train() # reset to train mode after iterationg through validation data\n",
    "                \n",
    "                print(\"Epoch: {}/{}...\".format(e+1, epochs),\n",
    "                      \"Step: {}...\".format(counter),\n",
    "                      \"Loss: {:.4f}...\".format(loss.item()),\n",
    "                      \"Val Loss: {:.4f}\".format(np.mean(val_losses)))"
   ]
  },
  {
   "cell_type": "code",
   "execution_count": 36,
   "metadata": {},
   "outputs": [
    {
     "name": "stdout",
     "output_type": "stream",
     "text": "CharRNN(\n  (lstm): LSTM(56, 512, num_layers=2, batch_first=True, dropout=0.5)\n  (dropout): Dropout(p=0.5, inplace=False)\n  (fc): Linear(in_features=512, out_features=56, bias=True)\n)\n"
    }
   ],
   "source": [
    "# define and print the net\n",
    "n_hidden=512\n",
    "n_layers=2\n",
    "\n",
    "net = CharRNN(chars, n_hidden, n_layers)\n",
    "print(net)"
   ]
  },
  {
   "cell_type": "code",
   "execution_count": 37,
   "metadata": {},
   "outputs": [],
   "source": [
    "batch_size = 128\n",
    "seq_length = 100\n",
    "n_epochs = 20 # start smaller if you are just testing initial behavior\n",
    "\n",
    "# train the model\n",
    "train(net, encoded, epochs=n_epochs, batch_size=batch_size, seq_length=seq_length, lr=0.001, print_every=10)"
   ]
  },
  {
   "cell_type": "code",
   "execution_count": 44,
   "metadata": {},
   "outputs": [],
   "source": [
    "# change the name, for saving multiple files\n",
    "model_name = 'rnn_20_epoch.net'\n",
    "\n",
    "checkpoint = {'n_hidden': net.n_hidden,\n",
    "              'n_layers': net.n_layers,\n",
    "              'state_dict': net.state_dict(),\n",
    "              'tokens': net.chars}\n",
    "\n",
    "with open(model_name, 'wb') as f:\n",
    "    torch.save(checkpoint, f)"
   ]
  },
  {
   "cell_type": "code",
   "execution_count": 39,
   "metadata": {},
   "outputs": [],
   "source": [
    "def predict(net, char, h=None, top_k=None):\n",
    "        ''' Given a character, predict the next character.\n",
    "            Returns the predicted character and the hidden state.\n",
    "        '''\n",
    "        \n",
    "        # tensor inputs\n",
    "        x = np.array([[net.char2int[char]]])\n",
    "        x = one_hot_encode(x, len(net.chars))\n",
    "        inputs = torch.from_numpy(x)\n",
    "        \n",
    "        if(train_on_gpu):\n",
    "            inputs = inputs.cuda()\n",
    "        \n",
    "        # detach hidden state from history\n",
    "        h = tuple([each.data for each in h])\n",
    "        # get the output of the model\n",
    "        out, h = net(inputs, h)\n",
    "\n",
    "        # get the character probabilities\n",
    "        p = F.softmax(out, dim=1).data\n",
    "        if(train_on_gpu):\n",
    "            p = p.cpu() # move to cpu\n",
    "        \n",
    "        # get top characters\n",
    "        if top_k is None:\n",
    "            top_ch = np.arange(len(net.chars))\n",
    "        else:\n",
    "            p, top_ch = p.topk(top_k)\n",
    "            top_ch = top_ch.numpy().squeeze()\n",
    "        \n",
    "        # select the likely next character with some element of randomness\n",
    "        p = p.numpy().squeeze()\n",
    "        char = np.random.choice(top_ch, p=p/p.sum())\n",
    "        \n",
    "        # return the encoded value of the predicted char and the hidden state\n",
    "        return net.int2char[char], h"
   ]
  },
  {
   "cell_type": "code",
   "execution_count": 40,
   "metadata": {},
   "outputs": [],
   "source": [
    "def sample(net, size, prime='The', top_k=None):\n",
    "        \n",
    "    if(train_on_gpu):\n",
    "        net.cuda()\n",
    "    else:\n",
    "        net.cpu()\n",
    "    \n",
    "    net.eval() # eval mode\n",
    "    \n",
    "    # First off, run through the prime characters\n",
    "    chars = [ch for ch in prime]\n",
    "    h = net.init_hidden(1)\n",
    "    for ch in prime:\n",
    "        char, h = predict(net, ch, h, top_k=top_k)\n",
    "\n",
    "    chars.append(char)\n",
    "    \n",
    "    # Now pass in the previous character and get a new one\n",
    "    for ii in range(size):\n",
    "        char, h = predict(net, chars[-1], h, top_k=top_k)\n",
    "        chars.append(char)\n",
    "\n",
    "    return ''.join(chars)"
   ]
  },
  {
   "cell_type": "code",
   "execution_count": 45,
   "metadata": {},
   "outputs": [
    {
     "name": "stdout",
     "output_type": "stream",
     "text": "warlockqeqOWqkaWqqkaWkWkkqeeqqeeeeqeOWekWeqaaWWeeWLLqkqWaaeqWeeeOqqkkaWkWqeqaeeOqqWqWWqqaaqWqkWqqkqWWWWekeWLWWkkeWeeekkqqqqOOOqqekakkeeaekakakkkLLqkeWeqkkaWakqaeWaWqakeeeWaekkakqaeeekqkeWkWakaekaeqkaWeeqaaWWeeeLWqWeqkeaaaqqkaekkqkWkqaeaeWakWaekqkeqeOOqkaWaqqkkqekakaeWkeeWqWqqkeeeWWqqkqqqeWkeqaqWeeWWkWaeeWLLWeqaeeeeqOOeOeWqWeWWLqWeqakeaqekekqeOWekkkkWeekkWqqaWeaaaaeaeeqqqeeeeWWeLqWaqaqeqekkWkWaqeaWqkWqkWaaeqWkeaaWkekWkqakWeWeLLWkWWakqWqkaqqqeOOWWeWWWaaWkkWkqkeakkeWWWWeeWeWkqeaqkakkeaWaWaqqWWkaLWqWWLLkaeaqaakeWaaekaqWeaaWWqWkaqWeLeWeWLLkkkeeaqqqOqqqqWOWqeeqOOqkkeakqWWqWqWaqWWeeeLeLWWkeeekqqWeqekWqekqqeqWeWkaaakqqakWaaaWaWWLqWqkWWaLqWeLWekeWWqWaeqeeeOWWaakqqaqqeqkWaeWekWkWaaeaWqWaaWWWkaakqaeWqeeqWkeqqkqekWWkqaqkkqakeqeWakkkWkLqWeWeWkqkWWWakqqkeaekakWeqWekWWkeaWeWWWaWLaaqWkWWLkaqaWqeqeWkeWWkWekWqkqqqOOaaqaaeakWqWakqWakLLkLWLLaqqWkeqeqOWWeWkeakqkaaqqkeqeeWOaWqqkakqqqWWeWkWaWqekeWaaeekeqqkqakqWqaqqaqWkeqekqWWqkWaaWqkWWkWWkWqaqkWakLakaWqWakqeaWWWaLWLkLaLaWWqekkkeqeOWkaekkekeqqqekkWqakkaqkWLWLaqkkWWkk\n"
    }
   ],
   "source": [
    "\n",
    "print(sample(net, 1000, prime='warlock', top_k=5))"
   ]
  },
  {
   "cell_type": "code",
   "execution_count": 42,
   "metadata": {},
   "outputs": [
    {
     "data": {
      "text/plain": "<All keys matched successfully>"
     },
     "execution_count": 42,
     "metadata": {},
     "output_type": "execute_result"
    }
   ],
   "source": [
    "# Here we have loaded in a model that trained over 20 epochs `rnn_20_epoch.net`\n",
    "with open('rnn_20_epoch.net', 'rb') as f:\n",
    "    checkpoint = torch.load(f)\n",
    "    \n",
    "loaded = CharRNN(checkpoint['tokens'], n_hidden=checkpoint['n_hidden'], n_layers=checkpoint['n_layers'])\n",
    "loaded.load_state_dict(checkpoint['state_dict'])"
   ]
  },
  {
   "cell_type": "code",
   "execution_count": 43,
   "metadata": {},
   "outputs": [
    {
     "name": "stdout",
     "output_type": "stream",
     "text": "And Levin saidWLekkaWkWqkWakaWkLWkkkkakWLLakaqWeqeeOkaaWeWaWeqaWWaaqWqaqWqqeOOqkkqeeWeOeWkeWkekWeqkkWqWeWqqqekekkWkeaeWkqkWkkqeWekkaakekeaqqkaqqWqaWkqaWqqaeaaaWkLaaWLkkaWaWWaqkaLqkaeeWakqaWaqeaeqeqeekOqqeqkWkqkqqkeqkqeWaaaWkLkaLWWWakkqWWLkaqkkqWWkLLqkkkqqqeOqekkakeaeeekWaeeWeeLeqeOkqqeOqWeqkqeOkWkekkekeeWeeeOWWeWkeqaqeqOOeeqqqkkWaaWkqaaqWkaLaqaqqqkkeeeWWkWkekqWkkkkWkLLLqaeeqkkkkkkWWqqekaWkeaWqekkkWWWLaWWLaWaqqkqkkaeeqkWeWqkkWeqqaWkWkaaqWqWaqkWaWqeeekqakkkWeWaeeLqWeqqOWqqeWOaqqakWWWqekeLeqqWeqWaaakakWWaaLkqkakaaLaLaakaakqqeeqkaeaWaWakWWqkqaqWeaaWekqkqWWaqeakWqkaqWekqeOWqkeeOWkeWeakWkaeekeeqkkWkqkqkaaaakLqqqaaWeqaekWkkqqakWWkWqaeaaekeWWWqkqaeqaWWekqeeOOeqkWWkqWkWeqkqqeWeqqeqeOqkWeqkkkekaeaqqeOWeWWeqWWWeqLLkWkeaeqqWeWkqaekaeWakWkLqqkWaaaWkqWkaWLLaLLkWqaWeeqkaaWkqqakaaqaqaaekekaaaqWqkqeqOkqqeOqqeOWkakkkeeWeeqkaaWkkWkWkWWkLkWaLWLaaqekWeWqkaqeaWakkkWqqaqkqakeaaeaeakWqeqkeaqWWkWaaWkakkaqkkaWWLLqaqWekaqaaqekqkkkWWqeWLkWqaqqaekeWeqqWWkaeaWqkeWeekkkWaWqaWqeqWWqeqOWWaqqkeaaWWqkaqqkqeWkaWqeqqqOWkWakWqqekakeaqkqeekkkkWkekWWWWLeWLLeeqWqaWkaaeakkqkqkkkaWWqkekkqaeeeWqeqOOqqOWkkaaWkkqaeWaqWaeWWqqeeOOaakakeWqeeWeekkaqeWqWWeqLqaqaWakLLqkqWekkakWaWqqkkqeeqOkaqeqeekqaaekeeaqkWqaqakeqaekqWqqeWqkqWWqWkeLeWLWLLeeekkkaekqakaWaqkkWkaqqqaWqqakqekkkeqkaaeeeOqeekaqakkeqkWWaeaaWkkLaaakLkqWkLWLkWqWqaeeqqOWqqkqqqWqWkaqWWqaqaqaaekaWWLqqaWakLLaaLkkWWqWkLWaLqWeqqeqkkqWqeqqOkeeeqkkWqkaqkeqWkeWaqWakkeqaqkkWekkkWkWaWakqkaWqWkqqkWaaqeaeaWkeekqaWkqkkqWqWkkaqkqqaqkWeWekkWWeakWkeaaeqkkakWqeaekWWWeWLeWqWkqeaeaqWkaWeWeWWkakWWqWaaqaeWaeakkkWkLLLkakLkakWLLaaLLqaaWaaLLkLaqeqqWaeWeLqWWqkeaqWeqkkWWeakaeeaaqeeOWkeaqqeWqeeWeLkqekqeqeeqWekeqqeqekWeWqkeakWkqeeqOekqWkakaWkLqqWeqqOkeqekeOeOkeWqWkkWqqqWqkWkqekkqeeWeqWeeqWOkaqekaWWWkkkLLWqqekaeWkqeWqWWeeqekqkeeWeeWLeqWeekaqkWkqeWkaWeWaaekaeeeOkaqakeqWWqqeeqeOkeqqWWWkWkkWaaWaaWqLkWLqekaaekkWeaqWaeeWkqaeeWWeLkaqWeekqkkkeeeeqqOWeaWqaWqakeakqkaakkLLkqqkqaWaaqWeWLLLqeLWqWaWekkekkaWqkaeeqqeOWqkWWWkekWeqqaWekqkkkaqaeqeOkqqekkkqaqWakkWkLLWWWakqekkqkaqeaeaakkeWkqkkekeeOakWkeaeeaaWaakqqeakeWeqkae\n"
    }
   ],
   "source": [
    "# Sample using a loaded model\n",
    "print(sample(loaded, 2000, top_k=5, prime=\"And Levin said\"))"
   ]
  },
  {
   "cell_type": "code",
   "execution_count": null,
   "metadata": {},
   "outputs": [],
   "source": []
  }
 ]
}